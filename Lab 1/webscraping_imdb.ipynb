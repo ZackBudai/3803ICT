{
 "cells": [
  {
   "cell_type": "code",
   "execution_count": 7,
   "metadata": {
    "colab": {
     "base_uri": "https://localhost:8080/",
     "height": 105
    },
    "executionInfo": {
     "elapsed": 290,
     "status": "error",
     "timestamp": 1709470131849,
     "user": {
      "displayName": "Minh Hiếu Nguyễn",
      "userId": "03728514655365313772"
     },
     "user_tz": -600
    },
    "id": "P8t19yNDV_DG",
    "outputId": "ea1d882b-238d-4853-889d-d40a47728e0c"
   },
   "outputs": [],
   "source": [
    "# Write a Python script to download IMDB 250 Top Rated Movies.\n",
    "# For each movie, you'll need to retrieve the movie title, the ranking, the initial release year, and\n",
    "# the rating.\n",
    "# Your data must be stored in a proper imdb_top_250.csv file.\n",
    "\n",
    "import requests, csv\n",
    "from bs4 import BeautifulSoup\n",
    "\n",
    "def get_movies(url, headers):\n",
    "    response = requests.get(url, headers=headers)\n",
    "    soup = BeautifulSoup(response.text)\n",
    "\n",
    "    movies = soup.find_all('li', {\"class\":'ipc-metadata-list-summary-item'})\n",
    "\n",
    "    titles = [movie.h3.text.split(\". \")[1] for movie in movies]\n",
    "\n",
    "    rankings = [movie.h3.text.split(\". \")[0] for movie in movies]\n",
    "\n",
    "    years = [movie.find_all('span')[1].text for movie in movies]\n",
    "\n",
    "    ratings = [movie.find_all('span')[4].span.text.split(\"\\xa0\")[0] for movie in movies]\n",
    "\n",
    "    lst = list(zip(titles, rankings, years, ratings))\n",
    "    lst = [list(elem) for elem in lst]\n",
    "    \n",
    "    str_lst = [f\"{lst[i][1]} / {lst[i][0]} ({lst[i][2]}) / Starring: {lst[i][3]}\" for i, val in enumerate(lst)]\n",
    "    \n",
    "    res = [elem.split('/') for elem in str_lst]\n",
    "    \n",
    "    with open(\"imdb_top_250.csv\", \"w\") as f:\n",
    "        writer = csv.writer(f, delimiter=\"-\")\n",
    "        writer.writerows(res)"
   ]
  },
  {
   "cell_type": "code",
   "execution_count": 8,
   "metadata": {
    "colab": {
     "base_uri": "https://localhost:8080/",
     "height": 292
    },
    "executionInfo": {
     "elapsed": 378,
     "status": "error",
     "timestamp": 1709470132510,
     "user": {
      "displayName": "Minh Hiếu Nguyễn",
      "userId": "03728514655365313772"
     },
     "user_tz": -600
    },
    "id": "8276EKY2V_DJ",
    "outputId": "5c43c757-c060-4013-d1c9-3ef71743e36b"
   },
   "outputs": [],
   "source": [
    "def main():\n",
    "    headers = {'User-Agent':'Mozilla/5.0 (Windows NT 10.0; Win64; x64) AppleWebKit/537.36 (KHTML, like Gecko) Chrome/133.0.0.0 Safari/537.36'}\n",
    "    url = \"http://www.imdb.com/chart/top/\"\n",
    "    get_movies(url, headers)\n",
    "\n",
    "\n",
    "if __name__ == \"__main__\":\n",
    "    main()"
   ]
  },
  {
   "cell_type": "code",
   "execution_count": 9,
   "metadata": {
    "id": "osftV59KV_DK"
   },
   "outputs": [
    {
     "data": {
      "text/html": [
       "<div>\n",
       "<style scoped>\n",
       "    .dataframe tbody tr th:only-of-type {\n",
       "        vertical-align: middle;\n",
       "    }\n",
       "\n",
       "    .dataframe tbody tr th {\n",
       "        vertical-align: top;\n",
       "    }\n",
       "\n",
       "    .dataframe thead th {\n",
       "        text-align: right;\n",
       "    }\n",
       "</style>\n",
       "<table border=\"1\" class=\"dataframe\">\n",
       "  <thead>\n",
       "    <tr style=\"text-align: right;\">\n",
       "      <th></th>\n",
       "      <th>0</th>\n",
       "      <th>1</th>\n",
       "      <th>2</th>\n",
       "    </tr>\n",
       "  </thead>\n",
       "  <tbody>\n",
       "    <tr>\n",
       "      <th>0</th>\n",
       "      <td>1</td>\n",
       "      <td>The Shawshank Redemption (1994)</td>\n",
       "      <td>Starring: 9.3</td>\n",
       "    </tr>\n",
       "    <tr>\n",
       "      <th>1</th>\n",
       "      <td>2</td>\n",
       "      <td>The Godfather (1972)</td>\n",
       "      <td>Starring: 9.2</td>\n",
       "    </tr>\n",
       "    <tr>\n",
       "      <th>2</th>\n",
       "      <td>3</td>\n",
       "      <td>The Dark Knight (2008)</td>\n",
       "      <td>Starring: 9.0</td>\n",
       "    </tr>\n",
       "    <tr>\n",
       "      <th>3</th>\n",
       "      <td>4</td>\n",
       "      <td>The Godfather: Part II (1974)</td>\n",
       "      <td>Starring: 9.0</td>\n",
       "    </tr>\n",
       "    <tr>\n",
       "      <th>4</th>\n",
       "      <td>5</td>\n",
       "      <td>12 Angry Men (1957)</td>\n",
       "      <td>Starring: 9.0</td>\n",
       "    </tr>\n",
       "  </tbody>\n",
       "</table>\n",
       "</div>"
      ],
      "text/plain": [
       "   0                                  1               2\n",
       "0  1   The Shawshank Redemption (1994)    Starring: 9.3\n",
       "1  2              The Godfather (1972)    Starring: 9.2\n",
       "2  3            The Dark Knight (2008)    Starring: 9.0\n",
       "3  4     The Godfather: Part II (1974)    Starring: 9.0\n",
       "4  5               12 Angry Men (1957)    Starring: 9.0"
      ]
     },
     "execution_count": 9,
     "metadata": {},
     "output_type": "execute_result"
    }
   ],
   "source": [
    "import pandas as pd\n",
    "\n",
    "# Read CSV and show the first 5 rows\n",
    "df = pd.read_csv(\"imdb_top_250.csv\", delimiter=\"-\", header=None)\n",
    "df.head()"
   ]
  },
  {
   "cell_type": "code",
   "execution_count": null,
   "metadata": {
    "id": "4lWsqTtWV_DL"
   },
   "outputs": [],
   "source": []
  }
 ],
 "metadata": {
  "colab": {
   "provenance": []
  },
  "kernelspec": {
   "display_name": "Python 3",
   "language": "python",
   "name": "python3"
  },
  "language_info": {
   "codemirror_mode": {
    "name": "ipython",
    "version": 3
   },
   "file_extension": ".py",
   "mimetype": "text/x-python",
   "name": "python",
   "nbconvert_exporter": "python",
   "pygments_lexer": "ipython3",
   "version": "3.12.1"
  }
 },
 "nbformat": 4,
 "nbformat_minor": 0
}
